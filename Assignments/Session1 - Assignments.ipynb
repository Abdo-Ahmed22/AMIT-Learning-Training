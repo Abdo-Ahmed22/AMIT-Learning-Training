{
 "cells": [
  {
   "cell_type": "markdown",
   "id": "c067dcd9",
   "metadata": {},
   "source": [
    "### Q1. Create a list of five integers and print it."
   ]
  },
  {
   "cell_type": "code",
   "execution_count": 2,
   "id": "19a0e252",
   "metadata": {},
   "outputs": [
    {
     "name": "stdout",
     "output_type": "stream",
     "text": [
      "[1, 2, 3, 4, 5]\n"
     ]
    }
   ],
   "source": [
    "l =[1,2,3,4,5]\n",
    "print(l)"
   ]
  },
  {
   "cell_type": "markdown",
   "id": "a2d05fd3",
   "metadata": {},
   "source": [
    "### Q2. Write a program to find the length of a list."
   ]
  },
  {
   "cell_type": "code",
   "execution_count": 3,
   "id": "6b75c5d1",
   "metadata": {},
   "outputs": [
    {
     "data": {
      "text/plain": [
       "5"
      ]
     },
     "execution_count": 3,
     "metadata": {},
     "output_type": "execute_result"
    }
   ],
   "source": [
    "len(l)"
   ]
  },
  {
   "cell_type": "markdown",
   "id": "c705d6ac",
   "metadata": {},
   "source": [
    "### Q3. Create a tuple with three elements and print the second item."
   ]
  },
  {
   "cell_type": "code",
   "execution_count": 5,
   "id": "61c1e11e",
   "metadata": {},
   "outputs": [
    {
     "data": {
      "text/plain": [
       "2"
      ]
     },
     "execution_count": 5,
     "metadata": {},
     "output_type": "execute_result"
    }
   ],
   "source": [
    "t=(1,2,3)\n",
    "t[1]"
   ]
  },
  {
   "cell_type": "code",
   "execution_count": 7,
   "id": "354e286a",
   "metadata": {},
   "outputs": [
    {
     "data": {
      "text/plain": [
       "5"
      ]
     },
     "execution_count": 7,
     "metadata": {},
     "output_type": "execute_result"
    }
   ],
   "source": [
    "len(\"Hello\")"
   ]
  },
  {
   "cell_type": "markdown",
   "id": "a3fb1843",
   "metadata": {},
   "source": [
    "### Q4. Create a dictionary with 3 key-value pairs and print all keys."
   ]
  },
  {
   "cell_type": "code",
   "execution_count": 8,
   "id": "c588c043",
   "metadata": {},
   "outputs": [
    {
     "data": {
      "text/plain": [
       "dict_keys(['fname', 'age', 'city'])"
      ]
     },
     "execution_count": 8,
     "metadata": {},
     "output_type": "execute_result"
    }
   ],
   "source": [
    "d={'fname':'Abdo','age':23,'city':'cairo'}\n",
    "d.keys()"
   ]
  },
  {
   "cell_type": "markdown",
   "id": "499c5644",
   "metadata": {},
   "source": [
    "### Q5. Write a program to convert a list into a set."
   ]
  },
  {
   "cell_type": "code",
   "execution_count": 10,
   "id": "5b3e7b61",
   "metadata": {},
   "outputs": [
    {
     "data": {
      "text/plain": [
       "{1, 2, 3, 4, 5}"
      ]
     },
     "execution_count": 10,
     "metadata": {},
     "output_type": "execute_result"
    }
   ],
   "source": [
    "s=set(l)\n",
    "s"
   ]
  },
  {
   "cell_type": "markdown",
   "id": "a0e55b4f",
   "metadata": {},
   "source": [
    "### Q6. Create a string and print its first and last characters."
   ]
  },
  {
   "cell_type": "code",
   "execution_count": 12,
   "id": "b5cc0d08",
   "metadata": {},
   "outputs": [
    {
     "name": "stdout",
     "output_type": "stream",
     "text": [
      "A\n",
      "d\n"
     ]
    }
   ],
   "source": [
    "st='Abdo Ahmed'\n",
    "print(st[0])\n",
    "print(st[-1])"
   ]
  },
  {
   "cell_type": "markdown",
   "id": "f4adb032",
   "metadata": {},
   "source": [
    "### Q7. Take input from the user and print it."
   ]
  },
  {
   "cell_type": "code",
   "execution_count": 14,
   "id": "cc325325",
   "metadata": {},
   "outputs": [
    {
     "data": {
      "text/plain": [
       "'6'"
      ]
     },
     "execution_count": 14,
     "metadata": {},
     "output_type": "execute_result"
    }
   ],
   "source": [
    "x = input('Enter Number')\n",
    "x"
   ]
  },
  {
   "cell_type": "markdown",
   "id": "32003cd3",
   "metadata": {},
   "source": [
    "### Q8. Write a program to add two numbers entered by the user."
   ]
  },
  {
   "cell_type": "markdown",
   "id": "e63bd3d1",
   "metadata": {},
   "source": [
    "#### - help"
   ]
  },
  {
   "cell_type": "code",
   "execution_count": 17,
   "id": "1cce015b",
   "metadata": {},
   "outputs": [
    {
     "data": {
      "text/plain": [
       "11"
      ]
     },
     "execution_count": 17,
     "metadata": {},
     "output_type": "execute_result"
    }
   ],
   "source": [
    "n1=int(input())\n",
    "n2=int(input())\n",
    "z=n1+n2\n",
    "z"
   ]
  },
  {
   "cell_type": "markdown",
   "id": "7eb34a32",
   "metadata": {},
   "source": [
    "### Q9. Use `type()` function to check the data type of a variable."
   ]
  },
  {
   "cell_type": "code",
   "execution_count": 19,
   "id": "cfd2011d",
   "metadata": {},
   "outputs": [
    {
     "name": "stdout",
     "output_type": "stream",
     "text": [
      "<class 'int'>\n",
      "<class 'set'>\n"
     ]
    }
   ],
   "source": [
    "print(type(z))\n",
    "print(type(s))"
   ]
  },
  {
   "cell_type": "markdown",
   "id": "be64d8e2",
   "metadata": {},
   "source": [
    "### Q10. Create a boolean variable and print it."
   ]
  },
  {
   "cell_type": "code",
   "execution_count": 21,
   "id": "46812973",
   "metadata": {},
   "outputs": [
    {
     "name": "stdout",
     "output_type": "stream",
     "text": [
      "<class 'bool'>\n"
     ]
    }
   ],
   "source": [
    "b = True\n",
    "print(type(b))"
   ]
  },
  {
   "cell_type": "markdown",
   "id": "53765968",
   "metadata": {},
   "source": [
    "### Q11. Check if a number is positive, negative, or zero using `if` statement."
   ]
  },
  {
   "cell_type": "code",
   "execution_count": 24,
   "id": "0623e6d5",
   "metadata": {},
   "outputs": [
    {
     "name": "stdout",
     "output_type": "stream",
     "text": [
      "zero\n"
     ]
    }
   ],
   "source": [
    "n=int(input())\n",
    "if n>0:\n",
    "    print('positive') \n",
    "elif n<0:\n",
    "    print('negative')\n",
    "else:\n",
    "    print('zero')"
   ]
  },
  {
   "cell_type": "markdown",
   "id": "79b115a2",
   "metadata": {},
   "source": [
    "### Q12. Write a program to check if a number is even or odd."
   ]
  },
  {
   "cell_type": "code",
   "execution_count": 26,
   "id": "efcc28dc",
   "metadata": {},
   "outputs": [
    {
     "name": "stdout",
     "output_type": "stream",
     "text": [
      "Even\n"
     ]
    }
   ],
   "source": [
    "n=int(input())\n",
    "if n%2==0:\n",
    "    print('Even') \n",
    "else:\n",
    "    print('Odd')"
   ]
  },
  {
   "cell_type": "markdown",
   "id": "4e15996d",
   "metadata": {},
   "source": [
    "### Q13. Write a program that prints your name 3 times using a `for` loop."
   ]
  },
  {
   "cell_type": "code",
   "execution_count": 28,
   "id": "a213b9fd",
   "metadata": {},
   "outputs": [
    {
     "name": "stdout",
     "output_type": "stream",
     "text": [
      "Abdo\n",
      "Abdo\n",
      "Abdo\n"
     ]
    }
   ],
   "source": [
    "for i in range(3):\n",
    "    print('Abdo')"
   ]
  },
  {
   "cell_type": "markdown",
   "id": "3deb94cc",
   "metadata": {},
   "source": [
    "### Q14. Write a `for` loop that prints numbers from 1 to 10."
   ]
  },
  {
   "cell_type": "code",
   "execution_count": 29,
   "id": "2f806196",
   "metadata": {},
   "outputs": [
    {
     "name": "stdout",
     "output_type": "stream",
     "text": [
      "0\n",
      "1\n",
      "2\n",
      "3\n",
      "4\n",
      "5\n",
      "6\n",
      "7\n",
      "8\n",
      "9\n",
      "10\n"
     ]
    }
   ],
   "source": [
    "for i in range(11):\n",
    "    print(i)"
   ]
  },
  {
   "cell_type": "markdown",
   "id": "ede90dd1",
   "metadata": {},
   "source": [
    "### Q15. Use a `for` loop to iterate over a list and print each element."
   ]
  },
  {
   "cell_type": "code",
   "execution_count": 1,
   "id": "ca9ff07e",
   "metadata": {},
   "outputs": [
    {
     "name": "stdout",
     "output_type": "stream",
     "text": [
      "1\n",
      "2\n",
      "3\n",
      "4\n",
      "5\n"
     ]
    }
   ],
   "source": [
    "l = [1, 2, 3, 4, 5]\n",
    "for i in l:\n",
    "    print(i)\n"
   ]
  },
  {
   "cell_type": "markdown",
   "id": "850c2ca8",
   "metadata": {},
   "source": [
    "### Q16. Write a program to calculate the sum of numbers from 1 to 100."
   ]
  },
  {
   "cell_type": "code",
   "execution_count": 2,
   "id": "16a8cd5c",
   "metadata": {},
   "outputs": [
    {
     "name": "stdout",
     "output_type": "stream",
     "text": [
      "5051\n"
     ]
    }
   ],
   "source": [
    "s=1\n",
    "for i in range(1, 101):\n",
    "    s += i\n",
    "print(s)"
   ]
  },
  {
   "cell_type": "markdown",
   "id": "6250746b",
   "metadata": {},
   "source": [
    "### Q17. Write a `for` loop that prints only even numbers from 1 to 20."
   ]
  },
  {
   "cell_type": "code",
   "execution_count": 3,
   "id": "2764eb99",
   "metadata": {},
   "outputs": [
    {
     "name": "stdout",
     "output_type": "stream",
     "text": [
      "2\n",
      "4\n",
      "6\n",
      "8\n",
      "10\n",
      "12\n",
      "14\n",
      "16\n",
      "18\n"
     ]
    }
   ],
   "source": [
    "for i in range(1, 20):\n",
    "    if i % 2 == 0:\n",
    "        print(i)"
   ]
  },
  {
   "cell_type": "markdown",
   "id": "3b2408b5",
   "metadata": {},
   "source": [
    "### Q18. Write a `for` loop to print each character in a string."
   ]
  },
  {
   "cell_type": "code",
   "execution_count": 6,
   "id": "fc73c912",
   "metadata": {},
   "outputs": [
    {
     "name": "stdout",
     "output_type": "stream",
     "text": [
      "A\n",
      "b\n",
      "d\n",
      "o\n",
      " \n",
      "A\n",
      "h\n",
      "m\n",
      "e\n",
      "d\n"
     ]
    }
   ],
   "source": [
    "for i in 'Abdo Ahmed':\n",
    "    print(i)"
   ]
  },
  {
   "cell_type": "markdown",
   "id": "c75cb287",
   "metadata": {},
   "source": [
    "### Q19. Use a `for` loop to print all values in a dictionary."
   ]
  },
  {
   "cell_type": "code",
   "execution_count": 7,
   "id": "62d9d757",
   "metadata": {},
   "outputs": [
    {
     "name": "stdout",
     "output_type": "stream",
     "text": [
      "Abdo\n",
      "23\n",
      "cairo\n"
     ]
    }
   ],
   "source": [
    "d={'fname':'Abdo','age':23,'city':'cairo'}\n",
    "for value in d.values():\n",
    "    print(value)"
   ]
  },
  {
   "cell_type": "markdown",
   "id": "6994e4ca",
   "metadata": {},
   "source": [
    "### Q20. Write a program that uses a `for` loop to find the factorial of a number."
   ]
  },
  {
   "cell_type": "code",
   "execution_count": 9,
   "id": "254cb435",
   "metadata": {},
   "outputs": [
    {
     "name": "stdout",
     "output_type": "stream",
     "text": [
      "120\n"
     ]
    }
   ],
   "source": [
    "f=1\n",
    "n=int(input())\n",
    "for i in range(1, n+1):\n",
    "    f *= i\n",
    "print(f)"
   ]
  },
  {
   "cell_type": "markdown",
   "id": "92d3b300",
   "metadata": {},
   "source": [
    "### Q21. Create a list of your 5 favorite fruits."
   ]
  },
  {
   "cell_type": "code",
   "execution_count": 10,
   "id": "3f2d07e3",
   "metadata": {},
   "outputs": [],
   "source": [
    "l=['orange', 'apple', 'banana','wotermelon','mango']"
   ]
  },
  {
   "cell_type": "markdown",
   "id": "e3433500",
   "metadata": {},
   "source": [
    "### Q22. Add a new fruit to your list of favorite fruits."
   ]
  },
  {
   "cell_type": "code",
   "execution_count": 11,
   "id": "f9ffd8d2",
   "metadata": {},
   "outputs": [],
   "source": [
    "l.append('strawberry')"
   ]
  },
  {
   "cell_type": "markdown",
   "id": "a33917e4",
   "metadata": {},
   "source": [
    "### Q23. Remove the second item from a list."
   ]
  },
  {
   "cell_type": "code",
   "execution_count": 12,
   "id": "0fac364c",
   "metadata": {},
   "outputs": [],
   "source": [
    "l.remove('apple')"
   ]
  },
  {
   "cell_type": "markdown",
   "id": "497047c6",
   "metadata": {},
   "source": [
    "### Q24. Sort a list of numbers in descending order."
   ]
  },
  {
   "cell_type": "code",
   "execution_count": 14,
   "id": "b9717e06",
   "metadata": {},
   "outputs": [
    {
     "data": {
      "text/plain": [
       "['wotermelon', 'strawberry', 'orange', 'mango', 'banana']"
      ]
     },
     "execution_count": 14,
     "metadata": {},
     "output_type": "execute_result"
    }
   ],
   "source": [
    "l.sort(reverse=True )\n",
    "l"
   ]
  },
  {
   "cell_type": "markdown",
   "id": "6a3a29ad",
   "metadata": {},
   "source": [
    "### Q25. Find the maximum and minimum values in a list."
   ]
  },
  {
   "cell_type": "code",
   "execution_count": 16,
   "id": "82cc41dd",
   "metadata": {},
   "outputs": [
    {
     "name": "stdout",
     "output_type": "stream",
     "text": [
      "5 1\n"
     ]
    }
   ],
   "source": [
    "l=[1,2,3,4,5]\n",
    "print(max(l), min(l))"
   ]
  },
  {
   "cell_type": "markdown",
   "id": "a5077085",
   "metadata": {},
   "source": [
    "### Q26. Count how many times a value appears in a list."
   ]
  },
  {
   "cell_type": "code",
   "execution_count": 17,
   "id": "5953d267",
   "metadata": {},
   "outputs": [
    {
     "data": {
      "text/plain": [
       "2"
      ]
     },
     "execution_count": 17,
     "metadata": {},
     "output_type": "execute_result"
    }
   ],
   "source": [
    "l=[1,2,3,4,3,5]\n",
    "l.count(3  )"
   ]
  },
  {
   "cell_type": "markdown",
   "id": "e767871e",
   "metadata": {},
   "source": [
    "### Q27. Check if a specific value exists in a list."
   ]
  },
  {
   "cell_type": "code",
   "execution_count": 18,
   "id": "97bb90bd",
   "metadata": {},
   "outputs": [
    {
     "data": {
      "text/plain": [
       "True"
      ]
     },
     "execution_count": 18,
     "metadata": {},
     "output_type": "execute_result"
    }
   ],
   "source": [
    "2 in l"
   ]
  },
  {
   "cell_type": "markdown",
   "id": "346632ba",
   "metadata": {},
   "source": [
    "### Q28. Reverse a list without using reverse() function."
   ]
  },
  {
   "cell_type": "code",
   "execution_count": 20,
   "id": "663befc6",
   "metadata": {},
   "outputs": [
    {
     "data": {
      "text/plain": [
       "[5, 4, 3, 2, 1]"
      ]
     },
     "execution_count": 20,
     "metadata": {},
     "output_type": "execute_result"
    }
   ],
   "source": [
    "l=[1,2,3,4,5]\n",
    "l[::-1]"
   ]
  },
  {
   "cell_type": "markdown",
   "id": "4f28f319",
   "metadata": {},
   "source": [
    "### Q29. Make a copy of a list and modify the copy only."
   ]
  },
  {
   "cell_type": "code",
   "execution_count": 22,
   "id": "e665fc96",
   "metadata": {},
   "outputs": [
    {
     "data": {
      "text/plain": [
       "[1, 2, 3, 4, 5, 6]"
      ]
     },
     "execution_count": 22,
     "metadata": {},
     "output_type": "execute_result"
    }
   ],
   "source": [
    "l1=l.copy()\n",
    "l1\n",
    "l1.append(6)\n",
    "l1"
   ]
  },
  {
   "cell_type": "markdown",
   "id": "4fd7ffdf",
   "metadata": {},
   "source": [
    "### Q30. Use slicing to get the first 3 items of a list."
   ]
  },
  {
   "cell_type": "code",
   "execution_count": 24,
   "id": "5109bd94",
   "metadata": {},
   "outputs": [
    {
     "data": {
      "text/plain": [
       "[1, 2, 3]"
      ]
     },
     "execution_count": 24,
     "metadata": {},
     "output_type": "execute_result"
    }
   ],
   "source": [
    "l=[1,2,3,4,5]\n",
    "l[0:3]"
   ]
  },
  {
   "cell_type": "markdown",
   "id": "fa7d8cbc",
   "metadata": {},
   "source": [
    "### Q31. Create a tuple with 4 elements and print its length."
   ]
  },
  {
   "cell_type": "code",
   "execution_count": 25,
   "id": "1d519f4c",
   "metadata": {},
   "outputs": [
    {
     "name": "stdout",
     "output_type": "stream",
     "text": [
      "4\n"
     ]
    }
   ],
   "source": [
    "t=(1,2,3,4)\n",
    "print(len(t))"
   ]
  },
  {
   "cell_type": "markdown",
   "id": "1fc14e2a",
   "metadata": {},
   "source": [
    "### Q32. Access the last element of a tuple."
   ]
  },
  {
   "cell_type": "code",
   "execution_count": 26,
   "id": "924f8f7f",
   "metadata": {},
   "outputs": [
    {
     "data": {
      "text/plain": [
       "4"
      ]
     },
     "execution_count": 26,
     "metadata": {},
     "output_type": "execute_result"
    }
   ],
   "source": [
    "t[-1]"
   ]
  },
  {
   "cell_type": "markdown",
   "id": "31393230",
   "metadata": {},
   "source": [
    "### Q33. Convert a tuple into a list."
   ]
  },
  {
   "cell_type": "code",
   "execution_count": 29,
   "id": "d419f723",
   "metadata": {},
   "outputs": [
    {
     "data": {
      "text/plain": [
       "[1, 2, 3, 4]"
      ]
     },
     "execution_count": 29,
     "metadata": {},
     "output_type": "execute_result"
    }
   ],
   "source": [
    "l=list(t)\n",
    "l"
   ]
  },
  {
   "cell_type": "markdown",
   "id": "f2605bd7",
   "metadata": {},
   "source": [
    "### Q34. Convert a list into a tuple."
   ]
  },
  {
   "cell_type": "code",
   "execution_count": 31,
   "id": "2fc2424c",
   "metadata": {},
   "outputs": [
    {
     "data": {
      "text/plain": [
       "(1, 2, 3, 4)"
      ]
     },
     "execution_count": 31,
     "metadata": {},
     "output_type": "execute_result"
    }
   ],
   "source": [
    "t=tuple(l)\n",
    "t"
   ]
  },
  {
   "cell_type": "markdown",
   "id": "8ea26fed",
   "metadata": {},
   "source": [
    "### Q35. Check if a value exists in a tuple."
   ]
  },
  {
   "cell_type": "code",
   "execution_count": 33,
   "id": "502ca8ef",
   "metadata": {},
   "outputs": [
    {
     "data": {
      "text/plain": [
       "False"
      ]
     },
     "execution_count": 33,
     "metadata": {},
     "output_type": "execute_result"
    }
   ],
   "source": [
    "5 in t"
   ]
  },
  {
   "cell_type": "markdown",
   "id": "1861d487",
   "metadata": {},
   "source": [
    "### Q36. Concatenate two tuples."
   ]
  },
  {
   "cell_type": "code",
   "execution_count": 36,
   "id": "25990032",
   "metadata": {},
   "outputs": [
    {
     "data": {
      "text/plain": [
       "(1, 2, 3, 4, 5, 6)"
      ]
     },
     "execution_count": 36,
     "metadata": {},
     "output_type": "execute_result"
    }
   ],
   "source": [
    "t1=(1,2,3)\n",
    "t2=(4,5,6)\n",
    "t3=t1+t2\n",
    "t3"
   ]
  },
  {
   "cell_type": "markdown",
   "id": "7a62f436",
   "metadata": {},
   "source": [
    "### Q37. Repeat a tuple 3 times."
   ]
  },
  {
   "cell_type": "code",
   "execution_count": 39,
   "id": "1342d94a",
   "metadata": {},
   "outputs": [
    {
     "data": {
      "text/plain": [
       "(1, 2, 3, 1, 2, 3, 1, 2, 3)"
      ]
     },
     "execution_count": 39,
     "metadata": {},
     "output_type": "execute_result"
    }
   ],
   "source": [
    "t1*3\n"
   ]
  },
  {
   "cell_type": "markdown",
   "id": "5d54389e",
   "metadata": {},
   "source": [
    "### Q38. Find the index of an element in a tuple."
   ]
  },
  {
   "cell_type": "code",
   "execution_count": 40,
   "id": "3dbcc47b",
   "metadata": {},
   "outputs": [
    {
     "data": {
      "text/plain": [
       "1"
      ]
     },
     "execution_count": 40,
     "metadata": {},
     "output_type": "execute_result"
    }
   ],
   "source": [
    "t1.index(2)"
   ]
  },
  {
   "cell_type": "markdown",
   "id": "41e0cb37",
   "metadata": {},
   "source": [
    "### Q39. Use tuple unpacking to assign values to variables."
   ]
  },
  {
   "cell_type": "code",
   "execution_count": 42,
   "id": "b38c6788",
   "metadata": {},
   "outputs": [
    {
     "name": "stdout",
     "output_type": "stream",
     "text": [
      "1 2 3\n"
     ]
    }
   ],
   "source": [
    "n1,n2,n3 = t1\n",
    "print(n1, n2, n3)"
   ]
  },
  {
   "cell_type": "markdown",
   "id": "70b69ddd",
   "metadata": {},
   "source": [
    "### Q40. Create a nested list and access an inner element."
   ]
  },
  {
   "cell_type": "code",
   "execution_count": 44,
   "id": "0d05b3e7",
   "metadata": {},
   "outputs": [
    {
     "data": {
      "text/plain": [
       "5"
      ]
     },
     "execution_count": 44,
     "metadata": {},
     "output_type": "execute_result"
    }
   ],
   "source": [
    "l=[[1,2,3],[4,5,6]]\n",
    "l[1][1]"
   ]
  },
  {
   "cell_type": "markdown",
   "id": "70256f64",
   "metadata": {},
   "source": [
    "### Q41. Create a set of 5 unique colors."
   ]
  },
  {
   "cell_type": "code",
   "execution_count": 55,
   "id": "4be1c2bb",
   "metadata": {},
   "outputs": [
    {
     "data": {
      "text/plain": [
       "{'blue', 'green', 'orange', 'red', 'yellow'}"
      ]
     },
     "execution_count": 55,
     "metadata": {},
     "output_type": "execute_result"
    }
   ],
   "source": [
    "s={'red', 'green', 'blue', 'yellow', 'orange'}\n",
    "s"
   ]
  },
  {
   "cell_type": "markdown",
   "id": "774bddd7",
   "metadata": {},
   "source": [
    "### Q42. Add a new color to the set."
   ]
  },
  {
   "cell_type": "code",
   "execution_count": 56,
   "id": "9129a921",
   "metadata": {},
   "outputs": [
    {
     "data": {
      "text/plain": [
       "{'blue', 'green', 'orange', 'purple', 'red', 'yellow'}"
      ]
     },
     "execution_count": 56,
     "metadata": {},
     "output_type": "execute_result"
    }
   ],
   "source": [
    "s.add('purple')\n",
    "s"
   ]
  },
  {
   "cell_type": "markdown",
   "id": "3cc0470c",
   "metadata": {},
   "source": [
    "### Q43. Remove an item from the set using `remove()`."
   ]
  },
  {
   "cell_type": "code",
   "execution_count": 57,
   "id": "e85423ac",
   "metadata": {},
   "outputs": [
    {
     "data": {
      "text/plain": [
       "{'blue', 'green', 'orange', 'purple', 'red'}"
      ]
     },
     "execution_count": 57,
     "metadata": {},
     "output_type": "execute_result"
    }
   ],
   "source": [
    "s.remove('yellow')\n",
    "s"
   ]
  },
  {
   "cell_type": "markdown",
   "id": "b7047e3b",
   "metadata": {},
   "source": [
    "### Q44. Use `discard()` to remove an item that may or may not exist."
   ]
  },
  {
   "cell_type": "code",
   "execution_count": 58,
   "id": "adf2b3c2",
   "metadata": {},
   "outputs": [
    {
     "data": {
      "text/plain": [
       "{'blue', 'green', 'orange', 'purple', 'red'}"
      ]
     },
     "execution_count": 58,
     "metadata": {},
     "output_type": "execute_result"
    }
   ],
   "source": [
    "s.discard('yellow')\n",
    "s"
   ]
  },
  {
   "cell_type": "markdown",
   "id": "0c0338ca",
   "metadata": {},
   "source": [
    "### Q45. Create a set from a list with duplicate values."
   ]
  },
  {
   "cell_type": "code",
   "execution_count": 61,
   "id": "6918aaf4",
   "metadata": {},
   "outputs": [
    {
     "name": "stdout",
     "output_type": "stream",
     "text": [
      "{1, 2, 3, 4, 5}\n"
     ]
    }
   ],
   "source": [
    "l=[1,2,3,4,1,5,5]\n",
    "s=set(l)\n",
    "print(s)"
   ]
  },
  {
   "cell_type": "markdown",
   "id": "531ece70",
   "metadata": {},
   "source": [
    "### Q46. Find the union of two sets."
   ]
  },
  {
   "cell_type": "code",
   "execution_count": 62,
   "id": "f7c8d3a1",
   "metadata": {},
   "outputs": [
    {
     "data": {
      "text/plain": [
       "{'blue', 'green', 'orange', 'red', 'yellow'}"
      ]
     },
     "execution_count": 62,
     "metadata": {},
     "output_type": "execute_result"
    }
   ],
   "source": [
    "s1={'red', 'green', 'blue'}\n",
    "s2={'yellow', 'orange', 'blue'}\n",
    "s1.union(s2)"
   ]
  },
  {
   "cell_type": "markdown",
   "id": "37ddac6b",
   "metadata": {},
   "source": [
    "### Q47. Find the intersection of two sets."
   ]
  },
  {
   "cell_type": "code",
   "execution_count": 63,
   "id": "cbb3d58f",
   "metadata": {},
   "outputs": [
    {
     "data": {
      "text/plain": [
       "{'blue'}"
      ]
     },
     "execution_count": 63,
     "metadata": {},
     "output_type": "execute_result"
    }
   ],
   "source": [
    "s1.intersection(s2)"
   ]
  },
  {
   "cell_type": "markdown",
   "id": "cfba12fb",
   "metadata": {},
   "source": [
    "### Q48. Find the difference between two sets."
   ]
  },
  {
   "cell_type": "code",
   "execution_count": 64,
   "id": "87d9d198",
   "metadata": {},
   "outputs": [
    {
     "data": {
      "text/plain": [
       "{'green', 'red'}"
      ]
     },
     "execution_count": 64,
     "metadata": {},
     "output_type": "execute_result"
    }
   ],
   "source": [
    "s1.difference(s2)"
   ]
  },
  {
   "cell_type": "markdown",
   "id": "fe3124b5",
   "metadata": {},
   "source": [
    "### Q49. Check if a set is a subset of another set."
   ]
  },
  {
   "cell_type": "code",
   "execution_count": 65,
   "id": "9414638f",
   "metadata": {},
   "outputs": [
    {
     "data": {
      "text/plain": [
       "False"
      ]
     },
     "execution_count": 65,
     "metadata": {},
     "output_type": "execute_result"
    }
   ],
   "source": [
    "s1.issubset(s2)"
   ]
  },
  {
   "cell_type": "markdown",
   "id": "3155bdce",
   "metadata": {},
   "source": [
    "### Q50. Check if two sets are disjoint."
   ]
  },
  {
   "cell_type": "code",
   "execution_count": 67,
   "id": "14b85863",
   "metadata": {},
   "outputs": [
    {
     "data": {
      "text/plain": [
       "False"
      ]
     },
     "execution_count": 67,
     "metadata": {},
     "output_type": "execute_result"
    }
   ],
   "source": [
    "s1.isdisjoint(s2)"
   ]
  },
  {
   "cell_type": "markdown",
   "id": "bad362eb",
   "metadata": {},
   "source": [
    "### Q51. Create a dictionary with 3 items: name, age, and city."
   ]
  },
  {
   "cell_type": "code",
   "execution_count": 76,
   "id": "e2ae3ccd",
   "metadata": {},
   "outputs": [],
   "source": [
    "d={'fname':'Abdo','age':23,'city':'cairo'}"
   ]
  },
  {
   "cell_type": "markdown",
   "id": "222708fb",
   "metadata": {},
   "source": [
    "### Q52. Add a new key-value pair to the dictionary."
   ]
  },
  {
   "cell_type": "code",
   "execution_count": 77,
   "id": "f309e8a9",
   "metadata": {},
   "outputs": [
    {
     "data": {
      "text/plain": [
       "{'fname': 'Abdo', 'age': 23, 'city': 'cairo', 'lname': 'Ahmed'}"
      ]
     },
     "execution_count": 77,
     "metadata": {},
     "output_type": "execute_result"
    }
   ],
   "source": [
    "d['lname'] = 'Ahmed'\n",
    "d"
   ]
  },
  {
   "cell_type": "markdown",
   "id": "608c6307",
   "metadata": {},
   "source": [
    "### Q53. Update the value of an existing key in the dictionary."
   ]
  },
  {
   "cell_type": "code",
   "execution_count": 78,
   "id": "a47b25b9",
   "metadata": {},
   "outputs": [],
   "source": [
    "d['fname']='ABDO'"
   ]
  },
  {
   "cell_type": "markdown",
   "id": "99e23fe0",
   "metadata": {},
   "source": [
    "### Q54. Remove a key from the dictionary using `pop()`."
   ]
  },
  {
   "cell_type": "code",
   "execution_count": 79,
   "id": "eb851e69",
   "metadata": {},
   "outputs": [
    {
     "data": {
      "text/plain": [
       "{'fname': 'ABDO', 'age': 23, 'city': 'cairo'}"
      ]
     },
     "execution_count": 79,
     "metadata": {},
     "output_type": "execute_result"
    }
   ],
   "source": [
    "d.pop('lname');\n",
    "d"
   ]
  },
  {
   "cell_type": "markdown",
   "id": "c84dbe1f",
   "metadata": {},
   "source": [
    "### Q55. Check if a key exists in the dictionary."
   ]
  },
  {
   "cell_type": "code",
   "execution_count": 80,
   "id": "6c8dfaec",
   "metadata": {},
   "outputs": [
    {
     "data": {
      "text/plain": [
       "True"
      ]
     },
     "execution_count": 80,
     "metadata": {},
     "output_type": "execute_result"
    }
   ],
   "source": [
    "'age' in d"
   ]
  },
  {
   "cell_type": "markdown",
   "id": "430ec294",
   "metadata": {},
   "source": [
    "### Q56. Loop through a dictionary and print all keys and values."
   ]
  },
  {
   "cell_type": "code",
   "execution_count": 81,
   "id": "6795ec48",
   "metadata": {},
   "outputs": [
    {
     "name": "stdout",
     "output_type": "stream",
     "text": [
      "fname ABDO\n",
      "age 23\n",
      "city cairo\n"
     ]
    }
   ],
   "source": [
    "for key,value in zip(d.keys(), d.values()):\n",
    "    print(key,value)"
   ]
  },
  {
   "cell_type": "markdown",
   "id": "da3690bb",
   "metadata": {},
   "source": [
    "### Q57. Get all keys from a dictionary using `keys()`."
   ]
  },
  {
   "cell_type": "code",
   "execution_count": 83,
   "id": "cb54c698",
   "metadata": {},
   "outputs": [
    {
     "data": {
      "text/plain": [
       "dict_keys(['fname', 'age', 'city'])"
      ]
     },
     "execution_count": 83,
     "metadata": {},
     "output_type": "execute_result"
    }
   ],
   "source": [
    "d.keys()"
   ]
  },
  {
   "cell_type": "markdown",
   "id": "d31b70c5",
   "metadata": {},
   "source": [
    "### Q58. Get all values from a dictionary using `values()`."
   ]
  },
  {
   "cell_type": "code",
   "execution_count": 84,
   "id": "3a766b70",
   "metadata": {},
   "outputs": [
    {
     "data": {
      "text/plain": [
       "dict_values(['ABDO', 23, 'cairo'])"
      ]
     },
     "execution_count": 84,
     "metadata": {},
     "output_type": "execute_result"
    }
   ],
   "source": [
    "d.values()"
   ]
  },
  {
   "cell_type": "markdown",
   "id": "b0a9ba1f",
   "metadata": {},
   "source": [
    "### Q59. Get all key-value pairs using `items()`."
   ]
  },
  {
   "cell_type": "code",
   "execution_count": 85,
   "id": "10080491",
   "metadata": {},
   "outputs": [
    {
     "data": {
      "text/plain": [
       "dict_items([('fname', 'ABDO'), ('age', 23), ('city', 'cairo')])"
      ]
     },
     "execution_count": 85,
     "metadata": {},
     "output_type": "execute_result"
    }
   ],
   "source": [
    "d.items()"
   ]
  },
  {
   "cell_type": "markdown",
   "id": "58cd862e",
   "metadata": {},
   "source": [
    "### Q60. Create a dictionary from two lists: one for keys and one for values."
   ]
  },
  {
   "cell_type": "code",
   "execution_count": 86,
   "id": "24a5326f",
   "metadata": {},
   "outputs": [
    {
     "data": {
      "text/plain": [
       "{'fname': 'Abdo', 'age': 23, 'city': 'cairo'}"
      ]
     },
     "execution_count": 86,
     "metadata": {},
     "output_type": "execute_result"
    }
   ],
   "source": [
    "key=['fname', 'age', 'city']\n",
    "value=['Abdo', 23, 'cairo']\n",
    "d=dict(zip(key, value))\n",
    "d      "
   ]
  }
 ],
 "metadata": {
  "kernelspec": {
   "display_name": "Python 3",
   "language": "python",
   "name": "python3"
  },
  "language_info": {
   "codemirror_mode": {
    "name": "ipython",
    "version": 3
   },
   "file_extension": ".py",
   "mimetype": "text/x-python",
   "name": "python",
   "nbconvert_exporter": "python",
   "pygments_lexer": "ipython3",
   "version": "3.13.5"
  }
 },
 "nbformat": 4,
 "nbformat_minor": 5
}
