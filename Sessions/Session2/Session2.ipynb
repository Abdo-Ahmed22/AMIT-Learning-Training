{
 "cells": [
  {
   "cell_type": "code",
   "execution_count": 4,
   "id": "d412300d",
   "metadata": {},
   "outputs": [],
   "source": [
    "class car:\n",
    "    def __init__(self,brand,model,year):\n",
    "        self.brand = brand\n",
    "        self.model = model\n",
    "        self.year = year\n",
    "\n",
    "    speed=0\n",
    "\n",
    "    def accelerate(self):\n",
    "        self.speed+=10\n",
    "        if self.speed>180:\n",
    "            print(\"speed limit 180\")\n",
    "            self.speed=180\n",
    "        print(self.speed)\n",
    "\n",
    "    def brake1(self):\n",
    "            self.speed-=10\n",
    "            if self.speed<=0:\n",
    "                print('the speed is zero')\n",
    "                self.speed=0\n",
    "            print(self.speed)\n",
    "\n",
    "    def disply(self):\n",
    "            print(self.brand)\n",
    "            print(self.model)\n",
    "            print(self.year)"
   ]
  },
  {
   "cell_type": "code",
   "execution_count": 5,
   "id": "2d252dab",
   "metadata": {},
   "outputs": [],
   "source": [
    "car1 = car('bmw','x6',2025)"
   ]
  },
  {
   "cell_type": "code",
   "execution_count": 6,
   "id": "ef9e42e3",
   "metadata": {},
   "outputs": [
    {
     "name": "stdout",
     "output_type": "stream",
     "text": [
      "bmw\n",
      "x6\n",
      "2025\n"
     ]
    }
   ],
   "source": [
    "car1.disply()"
   ]
  },
  {
   "cell_type": "code",
   "execution_count": 12,
   "id": "895738e6",
   "metadata": {},
   "outputs": [
    {
     "name": "stdout",
     "output_type": "stream",
     "text": [
      "20\n"
     ]
    }
   ],
   "source": [
    "car1.accelerate()"
   ]
  },
  {
   "cell_type": "code",
   "execution_count": 13,
   "id": "8dd8c470",
   "metadata": {},
   "outputs": [
    {
     "name": "stdout",
     "output_type": "stream",
     "text": [
      "10\n"
     ]
    }
   ],
   "source": [
    "car1.brake1()"
   ]
  },
  {
   "cell_type": "code",
   "execution_count": 14,
   "id": "19249b62",
   "metadata": {},
   "outputs": [],
   "source": [
    "class student:\n",
    "    count=0\n",
    "    def __init__(self,name,age,course):\n",
    "        self.name = name\n",
    "        self.age = age\n",
    "        self.courses = course\n",
    "        student.count+=1\n",
    "        \n",
    "    @classmethod\n",
    "    def total(cls):\n",
    "        print(cls.count)\n"
   ]
  },
  {
   "cell_type": "code",
   "execution_count": 15,
   "id": "042dd9f0",
   "metadata": {},
   "outputs": [],
   "source": [
    "s1=student('abdo',23,3)\n",
    "s2=student('ahmed',23,3)"
   ]
  },
  {
   "cell_type": "code",
   "execution_count": 16,
   "id": "936f39af",
   "metadata": {},
   "outputs": [
    {
     "name": "stdout",
     "output_type": "stream",
     "text": [
      "2\n"
     ]
    }
   ],
   "source": [
    "student.total()"
   ]
  },
  {
   "cell_type": "code",
   "execution_count": null,
   "id": "37afdbc5",
   "metadata": {},
   "outputs": [],
   "source": []
  }
 ],
 "metadata": {
  "kernelspec": {
   "display_name": "Python 3",
   "language": "python",
   "name": "python3"
  },
  "language_info": {
   "codemirror_mode": {
    "name": "ipython",
    "version": 3
   },
   "file_extension": ".py",
   "mimetype": "text/x-python",
   "name": "python",
   "nbconvert_exporter": "python",
   "pygments_lexer": "ipython3",
   "version": "3.13.5"
  }
 },
 "nbformat": 4,
 "nbformat_minor": 5
}
